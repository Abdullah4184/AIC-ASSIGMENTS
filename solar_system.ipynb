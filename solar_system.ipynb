{
  "nbformat": 4,
  "nbformat_minor": 0,
  "metadata": {
    "colab": {
      "provenance": [],
      "authorship_tag": "ABX9TyOBgGF16gDlzxIm1xcA7AOZ",
      "include_colab_link": true
    },
    "kernelspec": {
      "name": "python3",
      "display_name": "Python 3"
    },
    "language_info": {
      "name": "python"
    }
  },
  "cells": [
    {
      "cell_type": "markdown",
      "metadata": {
        "id": "view-in-github",
        "colab_type": "text"
      },
      "source": [
        "<a href=\"https://colab.research.google.com/github/Abdullah4184/AIC-ASSIGMENTS/blob/main/solar_system.ipynb\" target=\"_parent\"><img src=\"https://colab.research.google.com/assets/colab-badge.svg\" alt=\"Open In Colab\"/></a>"
      ]
    },
    {
      "cell_type": "code",
      "execution_count": 3,
      "metadata": {
        "id": "n2kMUry7cq-x"
      },
      "outputs": [],
      "source": [
        "def draw_solar_system():\n",
        "\n",
        "    sun = \"Sun\"\n",
        "    planets = [\"Mercury\", \"Venus\", \"Earth\", \"Mars\", \"Jupiter\", \"Saturn\", \"Uranus\", \"Neptune\"]\n",
        "\n",
        "\n",
        "    print(\" \" * 15 + sun)\n",
        "\n",
        "\n",
        "    for i, planet in enumerate(planets):\n",
        "        orbit_distance = (i + 1) * 3\n",
        "        print(\" \" * (15 + orbit_distance) + \"o\")\n",
        "        print(\" \" * (15 + orbit_distance) + planet)\n",
        "\n",
        "\n",
        "\n"
      ]
    }
  ]
}